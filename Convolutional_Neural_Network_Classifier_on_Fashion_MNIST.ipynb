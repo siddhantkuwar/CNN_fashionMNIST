{
  "cells": [
    {
      "cell_type": "markdown",
      "metadata": {
        "id": "xaGArfMj2CKh"
      },
      "source": [
        "Import PyTorch"
      ]
    },
    {
      "cell_type": "code",
      "execution_count": null,
      "metadata": {
        "id": "uSlphUIuzeGU"
      },
      "outputs": [],
      "source": [
        "import torch\n",
        "import torchvision\n",
        "import torchvision.transforms as transforms"
      ]
    },
    {
      "cell_type": "code",
      "execution_count": null,
      "metadata": {
        "colab": {
          "base_uri": "https://localhost:8080/"
        },
        "id": "N40IknUP03oy",
        "outputId": "326fd74a-14a9-48e1-8601-0c86ee1f279c"
      },
      "outputs": [
        {
          "output_type": "execute_result",
          "data": {
            "text/plain": [
              "True"
            ]
          },
          "metadata": {},
          "execution_count": 2
        }
      ],
      "source": [
        "torch.cuda.is_available()"
      ]
    },
    {
      "cell_type": "code",
      "execution_count": null,
      "metadata": {
        "colab": {
          "base_uri": "https://localhost:8080/",
          "height": 35
        },
        "id": "Ctudn4461ecy",
        "outputId": "3395df27-8d92-4024-ea50-296edf642bc0"
      },
      "outputs": [
        {
          "output_type": "execute_result",
          "data": {
            "text/plain": [
              "'cuda:0'"
            ],
            "application/vnd.google.colaboratory.intrinsic+json": {
              "type": "string"
            }
          },
          "metadata": {},
          "execution_count": 3
        }
      ],
      "source": [
        "device = 'cuda:0' if torch.cuda.is_available() else 'cpu'\n",
        "device"
      ]
    },
    {
      "cell_type": "code",
      "execution_count": null,
      "metadata": {
        "id": "F9HOv4aX1sXi",
        "colab": {
          "base_uri": "https://localhost:8080/"
        },
        "outputId": "da8746e9-6a20-4d12-c131-1c1e272c2ba1"
      },
      "outputs": [
        {
          "output_type": "stream",
          "name": "stderr",
          "text": [
            "100%|██████████| 26.4M/26.4M [00:02<00:00, 12.4MB/s]\n",
            "100%|██████████| 29.5k/29.5k [00:00<00:00, 202kB/s]\n",
            "100%|██████████| 4.42M/4.42M [00:01<00:00, 3.76MB/s]\n",
            "100%|██████████| 5.15k/5.15k [00:00<00:00, 8.33MB/s]\n"
          ]
        }
      ],
      "source": [
        "transform = transforms.ToTensor()\n",
        "batch_size = 8    #This means the GPU is going to handle 8 different examples at a time\n",
        "\n",
        "trainset = torchvision.datasets.FashionMNIST(root='./data', train=True, download=True, transform=transform)\n",
        "\n",
        "testset = torchvision.datasets.FashionMNIST(root='./data', train=False, download=True, transform=transform)\n",
        "\n",
        "classes = ('T-shirt/top', 'Trouser/pants', 'Pullover shirt', 'Dress', 'Coat', 'Sandal', 'Shirt', 'Sneaker', 'Bag', 'Ankle boot')"
      ]
    },
    {
      "cell_type": "code",
      "execution_count": null,
      "metadata": {
        "colab": {
          "base_uri": "https://localhost:8080/"
        },
        "id": "RF3fJI8B3gM4",
        "outputId": "f21e1658-a157-41b5-c12d-a4c674a42a46"
      },
      "outputs": [
        {
          "output_type": "execute_result",
          "data": {
            "text/plain": [
              "(torch.Size([1, 28, 28]), 9)"
            ]
          },
          "metadata": {},
          "execution_count": 5
        }
      ],
      "source": [
        "train_iter = iter(trainset)\n",
        "\n",
        "image, label = next(train_iter)\n",
        "\n",
        "image.shape, label\n",
        "\n",
        "#The label is 9, it should be a class of an Ankle boot"
      ]
    },
    {
      "cell_type": "code",
      "execution_count": null,
      "metadata": {
        "colab": {
          "base_uri": "https://localhost:8080/"
        },
        "id": "66sd6ojl4Rkz",
        "outputId": "04540f88-ec55-4ea4-a72d-abd3fdbfc3d9"
      },
      "outputs": [
        {
          "output_type": "execute_result",
          "data": {
            "text/plain": [
              "(0.0, 1.0)"
            ]
          },
          "metadata": {},
          "execution_count": 6
        }
      ],
      "source": [
        "torch.min(image).item(), torch.max(image).item()"
      ]
    },
    {
      "cell_type": "code",
      "execution_count": null,
      "metadata": {
        "colab": {
          "base_uri": "https://localhost:8080/",
          "height": 466
        },
        "id": "d4TWuL444m5g",
        "outputId": "01e11c89-d77b-49e9-83db-75d747fb5a00"
      },
      "outputs": [
        {
          "output_type": "stream",
          "name": "stdout",
          "text": [
            "Ankle boot\n"
          ]
        },
        {
          "output_type": "execute_result",
          "data": {
            "text/plain": [
              "<matplotlib.image.AxesImage at 0x792dba2099d0>"
            ]
          },
          "metadata": {},
          "execution_count": 7
        },
        {
          "output_type": "display_data",
          "data": {
            "text/plain": [
              "<Figure size 640x480 with 1 Axes>"
            ],
            "image/png": "[encoded data removed]"
          },
          "metadata": {}
        }
      ],
      "source": [
        "import matplotlib.pyplot as plt\n",
        "import numpy as np\n",
        "\n",
        "np_img = image.numpy()\n",
        "print(classes[label])\n",
        "plt.imshow(np_img.reshape((28, 28, 1)))"
      ]
    },
    {
      "cell_type": "code",
      "execution_count": null,
      "metadata": {
        "colab": {
          "base_uri": "https://localhost:8080/"
        },
        "id": "D7Uz1JtF5Trd",
        "outputId": "d13e15fd-a8ad-474c-9c2b-5f1d422c4d34"
      },
      "outputs": [
        {
          "output_type": "execute_result",
          "data": {
            "text/plain": [
              "(60000, 10000)"
            ]
          },
          "metadata": {},
          "execution_count": 8
        }
      ],
      "source": [
        "len(trainset), len(testset)"
      ]
    },
    {
      "cell_type": "code",
      "execution_count": null,
      "metadata": {
        "colab": {
          "base_uri": "https://localhost:8080/"
        },
        "id": "0E2sp5DG5iV7",
        "outputId": "53450d79-3ceb-40a1-e9ad-2428b3a0d372"
      },
      "outputs": [
        {
          "output_type": "execute_result",
          "data": {
            "text/plain": [
              "(50000, 10000, 10000)"
            ]
          },
          "metadata": {},
          "execution_count": 9
        }
      ],
      "source": [
        "trainset, valset = torch.utils.data.random_split(trainset, [50000, 10000])\n",
        "len(trainset), len(valset), len(testset)"
      ]
    },
    {
      "cell_type": "code",
      "execution_count": null,
      "metadata": {
        "colab": {
          "base_uri": "https://localhost:8080/"
        },
        "id": "kbGmrGSn9AV7",
        "outputId": "e61cd412-5f47-43ed-eab6-5b30f20920e3"
      },
      "outputs": [
        {
          "output_type": "stream",
          "name": "stdout",
          "text": [
            "Number of batches in the training set: 6250.0\n",
            "Number of batches in the validation set: 1250.0\n"
          ]
        }
      ],
      "source": [
        "print(f'Number of batches in the training set: {len(trainset) / batch_size}')\n",
        "print(f'Number of batches in the validation set: {len(valset) / batch_size}')"
      ]
    },
    {
      "cell_type": "code",
      "execution_count": null,
      "metadata": {
        "colab": {
          "base_uri": "https://localhost:8080/",
          "height": 187
        },
        "id": "TYEKPlYX9VmC",
        "outputId": "930fd8de-ad11-4068-8904-f63c6084f33b"
      },
      "outputs": [
        {
          "output_type": "execute_result",
          "data": {
            "text/plain": [
              "torch.utils.data.dataset.Subset"
            ],
            "text/html": [
              "<div style=\"max-width:800px; border: 1px solid var(--colab-border-color);\"><style>\n",
              "      pre.function-repr-contents {\n",
              "        overflow-x: auto;\n",
              "        padding: 8px 12px;\n",
              "        max-height: 500px;\n",
              "      }\n",
              "\n",
              "      pre.function-repr-contents.function-repr-contents-collapsed {\n",
              "        cursor: pointer;\n",
              "        max-height: 100px;\n",
              "      }\n",
              "    </style>\n",
              "    <pre style=\"white-space: initial; background:\n",
              "         var(--colab-secondary-surface-color); padding: 8px 12px;\n",
              "         border-bottom: 1px solid var(--colab-border-color);\"><b>torch.utils.data.dataset.Subset</b><br/>def __init__(dataset: Dataset[_T_co], indices: Sequence[int]) -&gt; None</pre><pre class=\"function-repr-contents function-repr-contents-collapsed\" style=\"\"><a class=\"filepath\" style=\"display:none\" href=\"#\">/usr/local/lib/python3.11/dist-packages/torch/utils/data/dataset.py</a>Subset of a dataset at specified indices.\n",
              "\n",
              "Args:\n",
              "    dataset (Dataset): The whole Dataset\n",
              "    indices (sequence): Indices in the whole set selected for subset</pre>\n",
              "      <script>\n",
              "      if (google.colab.kernel.accessAllowed && google.colab.files && google.colab.files.view) {\n",
              "        for (const element of document.querySelectorAll('.filepath')) {\n",
              "          element.style.display = 'block'\n",
              "          element.onclick = (event) => {\n",
              "            event.preventDefault();\n",
              "            event.stopPropagation();\n",
              "            google.colab.files.view(element.textContent, 393);\n",
              "          };\n",
              "        }\n",
              "      }\n",
              "      for (const element of document.querySelectorAll('.function-repr-contents')) {\n",
              "        element.onclick = (event) => {\n",
              "          event.preventDefault();\n",
              "          event.stopPropagation();\n",
              "          element.classList.toggle('function-repr-contents-collapsed');\n",
              "        };\n",
              "      }\n",
              "      </script>\n",
              "      </div>"
            ]
          },
          "metadata": {},
          "execution_count": 11
        }
      ],
      "source": [
        "type(trainset)"
      ]
    },
    {
      "cell_type": "code",
      "execution_count": null,
      "metadata": {
        "id": "c4_ty0uo9dW1"
      },
      "outputs": [],
      "source": [
        "trainloader = torch.utils.data.DataLoader(trainset, batch_size=batch_size, shuffle=True, num_workers=2)\n",
        "\n",
        "valloader = torch.utils.data.DataLoader(valset, batch_size=batch_size, shuffle=False, num_workers=2)\n",
        "\n",
        "testloader = torch.utils.data.DataLoader(testset, batch_size=batch_size, shuffle=False, num_workers=2)\n"
      ]
    },
    {
      "cell_type": "code",
      "execution_count": null,
      "metadata": {
        "id": "HRhE5UMP9_5i"
      },
      "outputs": [],
      "source": [
        "import torch.nn as nn\n",
        "import torch.nn.functional as F\n",
        "\n",
        "class NeuralNetwork(nn.Module):\n",
        "    def __init__(self):\n",
        "        super().__init__()\n",
        "\n",
        "        self.conv1 = nn.Conv2d(in_channels=1, out_channels=256, kernel_size=3)\n",
        "        self.pool1 = nn.MaxPool2d(2, 2)\n",
        "\n",
        "        self.conv2 = nn.Conv2d(in_channels=256, out_channels=512, kernel_size=3)\n",
        "        self.pool2 = nn.MaxPool2d(2, 2)\n",
        "\n",
        "        self.conv3 = nn.Conv2d(in_channels=512, out_channels=1024, kernel_size=2)\n",
        "        self.pool3 = nn.MaxPool2d(2, 2)\n",
        "\n",
        "        self.flatten = nn.Flatten()\n",
        "\n",
        "        self.fc1 = nn.Linear(in_features=4096, out_features=1024)\n",
        "        self.drop1 = nn.Dropout(0.3)\n",
        "\n",
        "        self.fc2 = nn.Linear(in_features=1024, out_features=1024)\n",
        "        self.drop2 = nn.Dropout(0.3)\n",
        "\n",
        "        self.out = nn.Linear(in_features=1024, out_features=10)\n",
        "\n",
        "\n",
        "    def forward(self, x):\n",
        "        x = F.relu(self.conv1(x))\n",
        "        x = self.pool1(x)\n",
        "\n",
        "        x = F.relu(self.conv2(x))\n",
        "        x = self.pool2(x)\n",
        "\n",
        "        x = F.relu(self.conv3(x))\n",
        "        x = self.pool3(x)\n",
        "\n",
        "        x = self.flatten(x)\n",
        "\n",
        "        x = F.relu(self.fc1(x))\n",
        "        x = self.drop1(x)\n",
        "\n",
        "        x = F.relu(self.fc2(x))\n",
        "        x = self.drop2(x)\n",
        "\n",
        "        x = self.out(x)\n",
        "\n",
        "        return x"
      ]
    },
    {
      "cell_type": "code",
      "execution_count": null,
      "metadata": {
        "colab": {
          "base_uri": "https://localhost:8080/"
        },
        "id": "12XFggBc_GyL",
        "outputId": "371f5e43-acc7-463e-96c8-fc052750be79"
      },
      "outputs": [
        {
          "output_type": "execute_result",
          "data": {
            "text/plain": [
              "NeuralNetwork(\n",
              "  (conv1): Conv2d(1, 256, kernel_size=(3, 3), stride=(1, 1))\n",
              "  (pool1): MaxPool2d(kernel_size=2, stride=2, padding=0, dilation=1, ceil_mode=False)\n",
              "  (conv2): Conv2d(256, 512, kernel_size=(3, 3), stride=(1, 1))\n",
              "  (pool2): MaxPool2d(kernel_size=2, stride=2, padding=0, dilation=1, ceil_mode=False)\n",
              "  (conv3): Conv2d(512, 1024, kernel_size=(2, 2), stride=(1, 1))\n",
              "  (pool3): MaxPool2d(kernel_size=2, stride=2, padding=0, dilation=1, ceil_mode=False)\n",
              "  (flatten): Flatten(start_dim=1, end_dim=-1)\n",
              "  (fc1): Linear(in_features=4096, out_features=1024, bias=True)\n",
              "  (drop1): Dropout(p=0.3, inplace=False)\n",
              "  (fc2): Linear(in_features=1024, out_features=1024, bias=True)\n",
              "  (drop2): Dropout(p=0.3, inplace=False)\n",
              "  (out): Linear(in_features=1024, out_features=10, bias=True)\n",
              ")"
            ]
          },
          "metadata": {},
          "execution_count": 14
        }
      ],
      "source": [
        "net = NeuralNetwork()\n",
        "net.to(device)"
      ]
    },
    {
      "cell_type": "code",
      "execution_count": null,
      "metadata": {
        "colab": {
          "base_uri": "https://localhost:8080/"
        },
        "id": "OF5ARAtj_Xfu",
        "outputId": "d5733c26-29f8-4334-812f-c17f6a93fcd5"
      },
      "outputs": [
        {
          "output_type": "stream",
          "name": "stdout",
          "text": [
            "input shape: torch.Size([8, 1, 28, 28])\n",
            "after network shape: torch.Size([8, 10])\n"
          ]
        }
      ],
      "source": [
        "for i, data in enumerate(trainloader):\n",
        "  inputs, labels = data[0].to(device), data[1].to(device)\n",
        "  print(f'input shape: {inputs.shape}')\n",
        "  print(f'after network shape: {net(inputs).shape}')\n",
        "  break"
      ]
    },
    {
      "cell_type": "code",
      "execution_count": null,
      "metadata": {
        "colab": {
          "base_uri": "https://localhost:8080/"
        },
        "id": "866ks1oTAKjH",
        "outputId": "78354892-7334-4137-e870-c1cda6336e4a"
      },
      "outputs": [
        {
          "output_type": "stream",
          "name": "stdout",
          "text": [
            "Number of parameters: 8,536,074\n"
          ]
        }
      ],
      "source": [
        "num_params = 0\n",
        "for x in net.parameters():\n",
        "  num_params += len(torch.flatten(x))\n",
        "\n",
        "print(f'Number of parameters: {num_params:,}')"
      ]
    },
    {
      "cell_type": "code",
      "execution_count": null,
      "metadata": {
        "id": "BKgkj0wMFa3u"
      },
      "outputs": [],
      "source": [
        "import torch.optim as optim\n",
        "\n",
        "criterion = nn.CrossEntropyLoss()\n",
        "optimizer = optim.Adam(net.parameters(), lr=0.0001)"
      ]
    },
    {
      "cell_type": "code",
      "execution_count": null,
      "metadata": {
        "id": "GmUxjqvIGSOK"
      },
      "outputs": [],
      "source": [
        "def train_one_epoch():\n",
        "  net.train(True)\n",
        "\n",
        "  running_loss = 0.0\n",
        "  running_accuracy = 0.0\n",
        "\n",
        "  for batch_index, data in enumerate(trainloader):\n",
        "    inputs, labels = data[0].to(device), data[1].to(device)\n",
        "\n",
        "    optimizer.zero_grad()\n",
        "\n",
        "    outputs = net(inputs) #shape: [batch_size, 10]\n",
        "    correct = torch.sum(labels == torch.argmax(outputs, dim=1)).item()\n",
        "    running_accuracy += correct / batch_size\n",
        "\n",
        "    loss = criterion(outputs, labels)\n",
        "    running_loss += loss.item()\n",
        "    loss.backward()\n",
        "    optimizer.step()\n",
        "\n",
        "    if batch_index % 500 == 499:  #Will print every 500 batches\n",
        "      avg_loss_across_batches = running_loss / 500\n",
        "      avg_acc_across_batches = (running_accuracy / 500) * 100\n",
        "      print(f'Batch {batch_index + 1}    Loss: {avg_loss_across_batches:0.3f}    Accuracy: {avg_acc_across_batches:0.1f}%')\n",
        "\n",
        "      running_loss = 0.0\n",
        "      running_accuracy = 0.0\n",
        "\n",
        "  print()\n",
        "\n"
      ]
    },
    {
      "cell_type": "code",
      "execution_count": null,
      "metadata": {
        "id": "IzRd1T3Mg7b4"
      },
      "outputs": [],
      "source": [
        "def validate_one_epoch():\n",
        "  net.train(False)\n",
        "\n",
        "  running_loss = 0.0\n",
        "  running_accuracy = 0.0\n",
        "\n",
        "  for i in enumerate(valloader):\n",
        "    inputs, labels = data[0].to(device), data[1].to(device)\n",
        "\n",
        "    with torch.no_grad():  #Since we are only validating the model, we don't need gradients to train it\n",
        "      outputs = net(inputs)\n",
        "      correct = torch.sum(labels == torch.argmax(outputs, dim=1)).item()\n",
        "      running_accuracy += correct / batch_size\n",
        "\n",
        "      loss = criterion(outputs, labels) #This output is the average batch loss\n",
        "      running_loss += loss.item()\n",
        "\n",
        "  avg_loss_across_batches = running_loss / len(valloader)\n",
        "  avg_acc_across_batches = (running_accuracy / len(valloader)) * 100\n",
        "\n",
        "  print(f'Validation Loss: {avg_loss_across_batches:0.3f}     Validation Accuracy: {avg_acc_across_batches:0.1f}%')\n",
        "  print('********************************************************')\n",
        "  print()"
      ]
    },
    {
      "cell_type": "code",
      "execution_count": null,
      "metadata": {
        "colab": {
          "base_uri": "https://localhost:8080/"
        },
        "id": "UuirC5vNFn3X",
        "outputId": "c4804aaa-101c-4acd-9bf7-5d9abd57e19d"
      },
      "outputs": [
        {
          "output_type": "stream",
          "name": "stdout",
          "text": [
            "Epoch: 1\n",
            "\n",
            "Batch 500    Loss: 1.180    Accuracy: 54.9%\n",
            "Batch 1000    Loss: 0.739    Accuracy: 72.4%\n",
            "Batch 1500    Loss: 0.640    Accuracy: 75.8%\n",
            "Batch 2000    Loss: 0.587    Accuracy: 77.0%\n",
            "Batch 2500    Loss: 0.577    Accuracy: 78.3%\n",
            "Batch 3000    Loss: 0.513    Accuracy: 80.8%\n",
            "Batch 3500    Loss: 0.492    Accuracy: 81.6%\n",
            "Batch 4000    Loss: 0.475    Accuracy: 82.6%\n",
            "Batch 4500    Loss: 0.433    Accuracy: 84.0%\n",
            "Batch 5000    Loss: 0.426    Accuracy: 84.6%\n",
            "Batch 5500    Loss: 0.425    Accuracy: 84.0%\n",
            "Batch 6000    Loss: 0.431    Accuracy: 83.8%\n",
            "\n",
            "Validation Loss: 0.550     Validation Accuracy: 75.0%\n",
            "********************************************************\n",
            "\n",
            "Epoch: 2\n",
            "\n",
            "Batch 500    Loss: 0.388    Accuracy: 85.8%\n",
            "Batch 1000    Loss: 0.339    Accuracy: 87.4%\n",
            "Batch 1500    Loss: 0.368    Accuracy: 86.2%\n",
            "Batch 2000    Loss: 0.352    Accuracy: 86.6%\n",
            "Batch 2500    Loss: 0.349    Accuracy: 87.4%\n",
            "Batch 3000    Loss: 0.334    Accuracy: 88.0%\n",
            "Batch 3500    Loss: 0.369    Accuracy: 87.1%\n",
            "Batch 4000    Loss: 0.350    Accuracy: 86.8%\n",
            "Batch 4500    Loss: 0.330    Accuracy: 88.1%\n",
            "Batch 5000    Loss: 0.320    Accuracy: 88.8%\n",
            "Batch 5500    Loss: 0.330    Accuracy: 87.6%\n",
            "Batch 6000    Loss: 0.325    Accuracy: 88.3%\n",
            "\n",
            "Validation Loss: 0.410     Validation Accuracy: 75.0%\n",
            "********************************************************\n",
            "\n",
            "Epoch: 3\n",
            "\n",
            "Batch 500    Loss: 0.276    Accuracy: 89.6%\n",
            "Batch 1000    Loss: 0.302    Accuracy: 88.6%\n",
            "Batch 1500    Loss: 0.289    Accuracy: 89.6%\n",
            "Batch 2000    Loss: 0.266    Accuracy: 89.7%\n",
            "Batch 2500    Loss: 0.269    Accuracy: 90.1%\n",
            "Batch 3000    Loss: 0.289    Accuracy: 88.8%\n",
            "Batch 3500    Loss: 0.284    Accuracy: 89.4%\n",
            "Batch 4000    Loss: 0.280    Accuracy: 89.8%\n",
            "Batch 4500    Loss: 0.311    Accuracy: 88.9%\n",
            "Batch 5000    Loss: 0.285    Accuracy: 89.7%\n",
            "Batch 5500    Loss: 0.289    Accuracy: 89.1%\n",
            "Batch 6000    Loss: 0.267    Accuracy: 90.1%\n",
            "\n",
            "Validation Loss: 0.261     Validation Accuracy: 100.0%\n",
            "********************************************************\n",
            "\n",
            "Epoch: 4\n",
            "\n",
            "Batch 500    Loss: 0.250    Accuracy: 90.7%\n",
            "Batch 1000    Loss: 0.244    Accuracy: 90.8%\n",
            "Batch 1500    Loss: 0.229    Accuracy: 92.0%\n",
            "Batch 2000    Loss: 0.263    Accuracy: 90.3%\n",
            "Batch 2500    Loss: 0.259    Accuracy: 90.5%\n",
            "Batch 3000    Loss: 0.251    Accuracy: 90.6%\n",
            "Batch 3500    Loss: 0.252    Accuracy: 90.8%\n",
            "Batch 4000    Loss: 0.252    Accuracy: 90.6%\n",
            "Batch 4500    Loss: 0.249    Accuracy: 90.8%\n",
            "Batch 5000    Loss: 0.244    Accuracy: 91.1%\n",
            "Batch 5500    Loss: 0.242    Accuracy: 91.1%\n",
            "Batch 6000    Loss: 0.258    Accuracy: 90.3%\n",
            "\n",
            "Validation Loss: 0.296     Validation Accuracy: 87.5%\n",
            "********************************************************\n",
            "\n",
            "Epoch: 5\n",
            "\n",
            "Batch 500    Loss: 0.203    Accuracy: 92.7%\n",
            "Batch 1000    Loss: 0.237    Accuracy: 91.0%\n",
            "Batch 1500    Loss: 0.219    Accuracy: 91.5%\n",
            "Batch 2000    Loss: 0.211    Accuracy: 92.0%\n",
            "Batch 2500    Loss: 0.227    Accuracy: 91.4%\n",
            "Batch 3000    Loss: 0.231    Accuracy: 91.6%\n",
            "Batch 3500    Loss: 0.219    Accuracy: 91.3%\n",
            "Batch 4000    Loss: 0.218    Accuracy: 92.0%\n",
            "Batch 4500    Loss: 0.215    Accuracy: 91.9%\n",
            "Batch 5000    Loss: 0.217    Accuracy: 91.8%\n",
            "Batch 5500    Loss: 0.206    Accuracy: 92.6%\n",
            "Batch 6000    Loss: 0.200    Accuracy: 92.4%\n",
            "\n",
            "Validation Loss: 0.236     Validation Accuracy: 87.5%\n",
            "********************************************************\n",
            "\n",
            "Epoch: 6\n",
            "\n",
            "Batch 500    Loss: 0.177    Accuracy: 93.4%\n",
            "Batch 1000    Loss: 0.193    Accuracy: 93.0%\n",
            "Batch 1500    Loss: 0.183    Accuracy: 93.2%\n",
            "Batch 2000    Loss: 0.192    Accuracy: 92.9%\n",
            "Batch 2500    Loss: 0.193    Accuracy: 92.8%\n",
            "Batch 3000    Loss: 0.200    Accuracy: 92.9%\n",
            "Batch 3500    Loss: 0.199    Accuracy: 92.7%\n",
            "Batch 4000    Loss: 0.184    Accuracy: 93.5%\n",
            "Batch 4500    Loss: 0.187    Accuracy: 92.6%\n",
            "Batch 5000    Loss: 0.200    Accuracy: 92.8%\n",
            "Batch 5500    Loss: 0.192    Accuracy: 93.0%\n",
            "Batch 6000    Loss: 0.215    Accuracy: 92.1%\n",
            "\n",
            "Validation Loss: 0.311     Validation Accuracy: 87.5%\n",
            "********************************************************\n",
            "\n",
            "Epoch: 7\n",
            "\n",
            "Batch 500    Loss: 0.150    Accuracy: 94.5%\n",
            "Batch 1000    Loss: 0.177    Accuracy: 93.6%\n",
            "Batch 1500    Loss: 0.163    Accuracy: 93.7%\n",
            "Batch 2000    Loss: 0.157    Accuracy: 94.4%\n",
            "Batch 2500    Loss: 0.165    Accuracy: 93.8%\n",
            "Batch 3000    Loss: 0.166    Accuracy: 93.7%\n",
            "Batch 3500    Loss: 0.168    Accuracy: 93.5%\n",
            "Batch 4000    Loss: 0.191    Accuracy: 92.7%\n",
            "Batch 4500    Loss: 0.154    Accuracy: 94.3%\n",
            "Batch 5000    Loss: 0.173    Accuracy: 93.4%\n",
            "Batch 5500    Loss: 0.192    Accuracy: 93.0%\n",
            "Batch 6000    Loss: 0.185    Accuracy: 93.5%\n",
            "\n",
            "Validation Loss: 0.298     Validation Accuracy: 75.0%\n",
            "********************************************************\n",
            "\n",
            "Epoch: 8\n",
            "\n",
            "Batch 500    Loss: 0.144    Accuracy: 94.9%\n",
            "Batch 1000    Loss: 0.140    Accuracy: 94.6%\n",
            "Batch 1500    Loss: 0.152    Accuracy: 94.1%\n",
            "Batch 2000    Loss: 0.148    Accuracy: 94.3%\n",
            "Batch 2500    Loss: 0.146    Accuracy: 94.5%\n",
            "Batch 3000    Loss: 0.142    Accuracy: 94.8%\n",
            "Batch 3500    Loss: 0.142    Accuracy: 94.6%\n",
            "Batch 4000    Loss: 0.147    Accuracy: 94.8%\n",
            "Batch 4500    Loss: 0.158    Accuracy: 93.9%\n",
            "Batch 5000    Loss: 0.159    Accuracy: 93.8%\n",
            "Batch 5500    Loss: 0.142    Accuracy: 95.0%\n",
            "Batch 6000    Loss: 0.166    Accuracy: 94.0%\n",
            "\n",
            "Validation Loss: 0.164     Validation Accuracy: 87.5%\n",
            "********************************************************\n",
            "\n",
            "Epoch: 9\n",
            "\n",
            "Batch 500    Loss: 0.128    Accuracy: 95.2%\n",
            "Batch 1000    Loss: 0.120    Accuracy: 95.6%\n",
            "Batch 1500    Loss: 0.126    Accuracy: 95.3%\n",
            "Batch 2000    Loss: 0.137    Accuracy: 95.1%\n",
            "Batch 2500    Loss: 0.128    Accuracy: 95.5%\n",
            "Batch 3000    Loss: 0.132    Accuracy: 95.0%\n",
            "Batch 3500    Loss: 0.138    Accuracy: 94.8%\n",
            "Batch 4000    Loss: 0.139    Accuracy: 94.8%\n",
            "Batch 4500    Loss: 0.122    Accuracy: 95.5%\n",
            "Batch 5000    Loss: 0.129    Accuracy: 94.9%\n",
            "Batch 5500    Loss: 0.124    Accuracy: 95.4%\n",
            "Batch 6000    Loss: 0.137    Accuracy: 94.9%\n",
            "\n",
            "Validation Loss: 0.164     Validation Accuracy: 87.5%\n",
            "********************************************************\n",
            "\n",
            "Epoch: 10\n",
            "\n",
            "Batch 500    Loss: 0.102    Accuracy: 96.2%\n",
            "Batch 1000    Loss: 0.103    Accuracy: 96.0%\n",
            "Batch 1500    Loss: 0.104    Accuracy: 96.0%\n",
            "Batch 2000    Loss: 0.116    Accuracy: 95.3%\n",
            "Batch 2500    Loss: 0.119    Accuracy: 95.7%\n",
            "Batch 3000    Loss: 0.100    Accuracy: 96.0%\n",
            "Batch 3500    Loss: 0.129    Accuracy: 95.2%\n",
            "Batch 4000    Loss: 0.106    Accuracy: 96.1%\n",
            "Batch 4500    Loss: 0.111    Accuracy: 95.7%\n",
            "Batch 5000    Loss: 0.126    Accuracy: 95.0%\n",
            "Batch 5500    Loss: 0.118    Accuracy: 95.6%\n",
            "Batch 6000    Loss: 0.121    Accuracy: 95.6%\n",
            "\n",
            "Validation Loss: 0.075     Validation Accuracy: 100.0%\n",
            "********************************************************\n",
            "\n",
            "Training Complete\n"
          ]
        }
      ],
      "source": [
        "num_epochs = 10\n",
        "\n",
        "for epoch_index in range(num_epochs):\n",
        "  print(f'Epoch: {epoch_index + 1}\\n')\n",
        "\n",
        "  train_one_epoch()\n",
        "  validate_one_epoch()\n",
        "\n",
        "print('Training Complete')"
      ]
    }
  ],
  "metadata": {
    "accelerator": "GPU",
    "colab": {
      "gpuType": "T4",
      "provenance": []
    },
    "kernelspec": {
      "display_name": "Python 3",
      "name": "python3"
    },
    "language_info": {
      "name": "python"
    }
  },
  "nbformat": 4,
  "nbformat_minor": 0
}